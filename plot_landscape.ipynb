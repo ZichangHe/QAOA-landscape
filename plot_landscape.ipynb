{
 "cells": [
  {
   "cell_type": "code",
   "execution_count": 1,
   "id": "1d1dc2c5-c02f-4da0-b28c-1dcb6ac5ca2a",
   "metadata": {},
   "outputs": [],
   "source": [
    "from qaoa_utils import *\n",
    "import time\n",
    "import matplotlib.pyplot as plt\n",
    "import networkx as nx\n",
    "np.set_printoptions(precision=4)"
   ]
  },
  {
   "cell_type": "code",
   "execution_count": 2,
   "id": "0ba6b16b-198b-4a07-9dc0-046d020630a6",
   "metadata": {},
   "outputs": [
    {
     "name": "stdout",
     "output_type": "stream",
     "text": [
      "Best string: [0 1 1 1 0 0] with cut: 9\n"
     ]
    }
   ],
   "source": [
    "# 3-regular graph with six nodes \n",
    "G = nx.random_regular_graph(d=3, n=6, seed=12345)\n",
    "best_solution, best_cut = best_cut(G)\n",
    "\n",
    "## For constructing a weighted maxcut, if weighted maxcut, we need to tune the search space of gamma \n",
    "# np.random.seed(0)\n",
    "# for edge in G.edges():\n",
    "#     nx.set_edge_attributes(G, {edge: {\"weight\": np.random.randint(0, 500) / 100}}) #500"
   ]
  },
  {
   "cell_type": "code",
   "execution_count": 3,
   "id": "172d4a1a-ec68-488a-9a86-529b417c8a14",
   "metadata": {},
   "outputs": [],
   "source": [
    "# Be free to adjust the grid search space\n",
    "N_grid = 40\n",
    "gammas = np.linspace(-1*np.pi/4, 1*np.pi/4, N_grid) \n",
    "betas = np.linspace(0, np.pi*0.5, N_grid)\n",
    "extent = [-0.25, 0.25, 0, 0.5]"
   ]
  },
  {
   "cell_type": "code",
   "execution_count": 4,
   "id": "61330358-3e62-4a08-bf1c-73393da0414a",
   "metadata": {},
   "outputs": [],
   "source": [
    "p = 1 # QAOA depth = 1\n",
    "fix = False  # extend the depth to 2 by fixing the depth-1 parameters\n",
    "fix_x = [3.03098639, -1.14395485]"
   ]
  },
  {
   "cell_type": "markdown",
   "id": "8c7f6fae-79fa-4040-bbbf-d979dc5f62dd",
   "metadata": {},
   "source": [
    "# Noiseless landscape"
   ]
  },
  {
   "cell_type": "code",
   "execution_count": 5,
   "id": "153cf59f-c60a-4d15-8dad-b48974a0d4ef",
   "metadata": {},
   "outputs": [
    {
     "name": "stdout",
     "output_type": "stream",
     "text": [
      "Finish 0/1600, elapse 0.04\n",
      "Finish 100/1600, elapse 1.62\n",
      "Finish 200/1600, elapse 2.93\n",
      "Finish 300/1600, elapse 4.28\n",
      "Finish 400/1600, elapse 5.58\n",
      "Finish 500/1600, elapse 6.88\n",
      "Finish 600/1600, elapse 8.20\n",
      "Finish 700/1600, elapse 9.54\n",
      "Finish 800/1600, elapse 10.85\n",
      "Finish 900/1600, elapse 12.21\n",
      "Finish 1000/1600, elapse 13.62\n",
      "Finish 1100/1600, elapse 14.92\n",
      "Finish 1200/1600, elapse 16.22\n",
      "Finish 1300/1600, elapse 17.56\n",
      "Finish 1400/1600, elapse 18.86\n",
      "Finish 1500/1600, elapse 20.20\n"
     ]
    }
   ],
   "source": [
    "total_cost_grid = np.zeros((N_grid, N_grid))\n",
    "min_cost = 1e10\n",
    "min_gamma = 0.0\n",
    "min_beta = 0.0\n",
    "min_config = None\n",
    "results_nf = {}\n",
    "func = get_black_box_objective(G, p=p, n_trials=1024, repeat=1, sv=True) \n",
    "# statevector simulator for noiseless simulation\n",
    "t = 0\n",
    "start_time = time.time()\n",
    "for k1 in range(len(betas)):\n",
    "    for k2 in range(len(gammas)):\n",
    "        beta = betas[k1]\n",
    "        gamma = gammas[k2]\n",
    "        if fix == True:\n",
    "            ini_point = np.array((fix_x[0],fix_x[1],gamma,beta))\n",
    "        else:\n",
    "            ini_point = np.array((gamma,beta))\n",
    "        total_cost = func(ini_point)\n",
    "        total_cost_grid[k1, k2] = total_cost\n",
    "        \n",
    "        if total_cost < min_cost and beta != 0.0 and gamma != 0.0:\n",
    "            min_cost = total_cost\n",
    "            min_gamma = gamma\n",
    "            min_beta = beta\n",
    "        if t % 100 == 0:   \n",
    "            end_time = time.time()\n",
    "            print(f'Finish {t}/{N_grid*N_grid}, elapse {end_time-start_time:.2f}')\n",
    "        t += 1\n",
    "results_nf[\"min_cost\"] = min_cost\n",
    "results_nf[\"min_gamma\"] = min_gamma\n",
    "results_nf[\"min_betas\"] = min_beta\n",
    "results_nf[\"beta_grid\"] = betas\n",
    "results_nf[\"gamma_grid\"] = gammas\n",
    "results_nf[\"total_cost_grid\"] = total_cost_grid"
   ]
  },
  {
   "cell_type": "code",
   "execution_count": 6,
   "id": "64248579-7f89-4970-a52e-a1b994db8f5b",
   "metadata": {},
   "outputs": [
    {
     "name": "stdout",
     "output_type": "stream",
     "text": [
      "====================================================================================================\n",
      "Minimum cost solution: -6.23\n",
      "Gamma: -0.10*pi\n",
      "Beta: 0.13*pi\n",
      "====================================================================================================\n"
     ]
    },
    {
     "data": {
      "image/png": "[encoded data removed]",
      "text/plain": [
       "<Figure size 720x720 with 2 Axes>"
      ]
     },
     "metadata": {
      "needs_background": "light"
     },
     "output_type": "display_data"
    }
   ],
   "source": [
    "print(\"=\" * 100)\n",
    "print(f\"Minimum cost solution: {results_nf['min_cost']:.2f}\")\n",
    "print(f\"Gamma: {results_nf['min_gamma'] / np.pi:.2f}*pi\")\n",
    "print(f\"Beta: {results_nf['min_betas']/np.pi:.2f}*pi\")\n",
    "print(\"=\" * 100)\n",
    "best_x = np.array((results_nf[\"min_betas\"],results_nf[\"min_gamma\"])) \n",
    "plt.figure(figsize=(10, 10))\n",
    "plt.title(f\"Noiseless Expectation value\")\n",
    "plt.imshow(results_nf[\"total_cost_grid\"][::-1],extent=extent)\n",
    "plt.colorbar()\n",
    "plt.xlabel(r\"$\\gamma \\ [\\pi]$\")\n",
    "plt.ylabel(r\"$\\beta \\ [\\pi]$\")\n",
    "plt.show()"
   ]
  },
  {
   "cell_type": "markdown",
   "id": "168bab60-cc64-4f81-9d2c-0e9e133298cb",
   "metadata": {
    "tags": []
   },
   "source": [
    "# Noisy landscape"
   ]
  },
  {
   "cell_type": "code",
   "execution_count": 7,
   "id": "9d356e1b-2ffe-43d6-a17d-dc775b34f28f",
   "metadata": {},
   "outputs": [
    {
     "name": "stdout",
     "output_type": "stream",
     "text": [
      "Finish 0/1600, elapse 0.17\n",
      "Finish 100/1600, elapse 16.34\n",
      "Finish 200/1600, elapse 32.14\n",
      "Finish 300/1600, elapse 47.78\n",
      "Finish 400/1600, elapse 63.44\n",
      "Finish 500/1600, elapse 79.08\n",
      "Finish 600/1600, elapse 94.74\n",
      "Finish 700/1600, elapse 110.34\n",
      "Finish 800/1600, elapse 125.98\n",
      "Finish 900/1600, elapse 141.65\n",
      "Finish 1000/1600, elapse 157.31\n",
      "Finish 1100/1600, elapse 172.97\n",
      "Finish 1200/1600, elapse 188.64\n",
      "Finish 1300/1600, elapse 204.32\n",
      "Finish 1400/1600, elapse 220.00\n",
      "Finish 1500/1600, elapse 236.08\n"
     ]
    }
   ],
   "source": [
    "total_cost_grid = np.zeros((N_grid, N_grid))\n",
    "min_cost = 1e10\n",
    "min_gamma = 0.0\n",
    "min_beta = 0.0\n",
    "min_config = None\n",
    "results = {}\n",
    "##### set the noise level by error_para\n",
    "noise_level = 0.01\n",
    "# Since the measurement induce some variance by nature,\n",
    "# repeat or enlarge the n_trail to mitigate the measurement noise \n",
    "func = get_black_box_objective_customized(G, p=p, error_para=[noise_level], n_trials=1024, repeat=10)\n",
    "t = 0\n",
    "start_time = time.time()\n",
    "for k1 in range(len(betas)):\n",
    "    for k2 in range(len(gammas)):\n",
    "        beta = betas[k1]\n",
    "        gamma = gammas[k2]\n",
    "        if fix == True:\n",
    "            ini_point = np.array((fix_x[0],fix_x[1],gamma,beta))\n",
    "        else:\n",
    "            ini_point = np.array((gamma,beta))\n",
    "        total_cost = func(ini_point)\n",
    "        total_cost_grid[k1, k2] = total_cost\n",
    "        \n",
    "        if total_cost < min_cost and beta != 0.0 and gamma != 0.0:\n",
    "            min_cost = total_cost\n",
    "            min_gamma = gamma\n",
    "            min_beta = beta\n",
    "        if t % 100 == 0:\n",
    "            end_time = time.time()\n",
    "            print(f'Finish {t}/{N_grid*N_grid}, elapse {end_time-start_time:.2f}')\n",
    "        t += 1\n",
    "results[\"min_cost\"] = min_cost\n",
    "results[\"min_gamma\"] = min_gamma\n",
    "results[\"min_betas\"] = min_beta\n",
    "results[\"beta_grid\"] = betas\n",
    "results[\"gamma_grid\"] = gammas\n",
    "results[\"total_cost_grid\"] = total_cost_grid"
   ]
  },
  {
   "cell_type": "code",
   "execution_count": 8,
   "id": "01746cdc-037f-4c35-a61d-b55f852a13b6",
   "metadata": {},
   "outputs": [
    {
     "name": "stdout",
     "output_type": "stream",
     "text": [
      "====================================================================================================\n",
      "Minimum cost solution: -5.96\n",
      "Gamma: 0.11*pi\n",
      "Beta: 0.37*pi\n",
      "====================================================================================================\n"
     ]
    },
    {
     "data": {
      "image/png": "[encoded data removed]",
      "text/plain": [
       "<Figure size 720x720 with 2 Axes>"
      ]
     },
     "metadata": {
      "needs_background": "light"
     },
     "output_type": "display_data"
    },
    {
     "name": "stdout",
     "output_type": "stream",
     "text": [
      "Energy at the noiseless optimum [-0.10*pi, 0.13*pi]: mean -5.96\n"
     ]
    }
   ],
   "source": [
    "print(\"=\" * 100)\n",
    "print(f\"Minimum cost solution: {results['min_cost']:.2f}\")\n",
    "print(f\"Gamma: {results['min_gamma'] /np.pi:.2f}*pi\")\n",
    "print(f\"Beta: {results['min_betas']/np.pi:.2f}*pi\")\n",
    "print(\"=\" * 100)\n",
    "best_x = np.array((results[\"min_betas\"],results[\"min_gamma\"])) \n",
    "plt.figure(figsize=(10, 10))\n",
    "plt.title(f\"Noise={noise_level} Expectation value\")\n",
    "plt.imshow(results[\"total_cost_grid\"][::-1],extent=extent)\n",
    "plt.colorbar()\n",
    "plt.xlabel(r\"$\\gamma \\ [\\pi]$\")\n",
    "plt.ylabel(r\"$\\beta \\ [\\pi]$\")\n",
    "plt.show()\n",
    "min_indices = np.where(results_nf[\"total_cost_grid\"] == np.min(results_nf[\"total_cost_grid\"]))\n",
    "gamma_nf = results_nf[\"min_gamma\"]\n",
    "beta_nf = results_nf[\"min_betas\"]\n",
    "print(f'Energy at the noiseless optimum [{gamma_nf/np.pi:.2f}*pi, {beta_nf/np.pi:.2f}*pi]: \\\n",
    "mean {results[\"total_cost_grid\"][min_indices[0][0],min_indices[1][0]]:.2f}')"
   ]
  },
  {
   "cell_type": "markdown",
   "id": "61f4cb9c-0337-4eb4-981d-39b0dc9355d1",
   "metadata": {},
   "source": [
    "# Noisy landscape with large noise level"
   ]
  },
  {
   "cell_type": "code",
   "execution_count": 9,
   "id": "098cf475-b764-4eda-9b5e-1ffc7f9c2b63",
   "metadata": {},
   "outputs": [
    {
     "name": "stdout",
     "output_type": "stream",
     "text": [
      "Finish 0/1600, elapse 0.18\n",
      "Finish 100/1600, elapse 16.34\n",
      "Finish 200/1600, elapse 32.09\n",
      "Finish 300/1600, elapse 48.16\n",
      "Finish 400/1600, elapse 64.45\n",
      "Finish 500/1600, elapse 81.26\n",
      "Finish 600/1600, elapse 97.36\n",
      "Finish 700/1600, elapse 113.51\n",
      "Finish 800/1600, elapse 129.40\n",
      "Finish 900/1600, elapse 145.47\n",
      "Finish 1000/1600, elapse 161.44\n",
      "Finish 1100/1600, elapse 177.28\n",
      "Finish 1200/1600, elapse 193.33\n",
      "Finish 1300/1600, elapse 209.87\n",
      "Finish 1400/1600, elapse 225.91\n",
      "Finish 1500/1600, elapse 241.89\n"
     ]
    }
   ],
   "source": [
    "total_cost_grid = np.zeros((N_grid, N_grid))\n",
    "min_cost = 1e10\n",
    "min_gamma = 0.0\n",
    "min_beta = 0.0\n",
    "min_config = None\n",
    "results = {}\n",
    "##### set the noise level by error_para\n",
    "noise_level = 0.05\n",
    "# Since the measurement induce some variance by nature,\n",
    "# repeat or enlarge the n_trail to mitigate the measurement noise \n",
    "func = get_black_box_objective_customized(G, p=p, error_para=[noise_level], n_trials=1024, repeat=10)\n",
    "t = 0\n",
    "start_time = time.time()\n",
    "for k1 in range(len(betas)):\n",
    "    for k2 in range(len(gammas)):\n",
    "        beta = betas[k1]\n",
    "        gamma = gammas[k2]\n",
    "        if fix == True:\n",
    "            ini_point = np.array((fix_x[0],fix_x[1],gamma,beta))\n",
    "        else:\n",
    "            ini_point = np.array((gamma,beta))\n",
    "        total_cost = func(ini_point)\n",
    "        total_cost_grid[k1, k2] = total_cost\n",
    "        \n",
    "        if total_cost < min_cost and beta != 0.0 and gamma != 0.0:\n",
    "            min_cost = total_cost\n",
    "            min_gamma = gamma\n",
    "            min_beta = beta\n",
    "        if t % 100 == 0:\n",
    "            end_time = time.time()\n",
    "            print(f'Finish {t}/{N_grid*N_grid}, elapse {end_time-start_time:.2f}')\n",
    "        t += 1\n",
    "results[\"min_cost\"] = min_cost\n",
    "results[\"min_gamma\"] = min_gamma\n",
    "results[\"min_betas\"] = min_beta\n",
    "results[\"beta_grid\"] = betas\n",
    "results[\"gamma_grid\"] = gammas\n",
    "results[\"total_cost_grid\"] = total_cost_grid"
   ]
  },
  {
   "cell_type": "code",
   "execution_count": 10,
   "id": "864beb57-b5f2-4dfc-897a-322eddcb0df9",
   "metadata": {},
   "outputs": [
    {
     "name": "stdout",
     "output_type": "stream",
     "text": [
      "====================================================================================================\n",
      "Minimum cost solution: -5.24\n",
      "Gamma: 0.10*pi\n",
      "Beta: 0.37*pi\n",
      "====================================================================================================\n"
     ]
    },
    {
     "data": {
      "image/png": "[encoded data removed]",
      "text/plain": [
       "<Figure size 720x720 with 2 Axes>"
      ]
     },
     "metadata": {
      "needs_background": "light"
     },
     "output_type": "display_data"
    },
    {
     "name": "stdout",
     "output_type": "stream",
     "text": [
      "Energy at the noiseless optimum [-0.10*pi, 0.13*pi]: mean -5.24\n"
     ]
    }
   ],
   "source": [
    "print(\"=\" * 100)\n",
    "print(f\"Minimum cost solution: {results['min_cost']:.2f}\")\n",
    "print(f\"Gamma: {results['min_gamma'] /np.pi:.2f}*pi\")\n",
    "print(f\"Beta: {results['min_betas']/np.pi:.2f}*pi\")\n",
    "print(\"=\" * 100)\n",
    "best_x = np.array((results[\"min_betas\"],results[\"min_gamma\"])) \n",
    "plt.figure(figsize=(10, 10))\n",
    "plt.title(f\"Noise={noise_level} Expectation value\")\n",
    "plt.imshow(results[\"total_cost_grid\"][::-1],extent=extent)\n",
    "plt.colorbar()\n",
    "plt.xlabel(r\"$\\gamma \\ [\\pi]$\")\n",
    "plt.ylabel(r\"$\\beta \\ [\\pi]$\")\n",
    "plt.show()\n",
    "min_indices = np.where(results_nf[\"total_cost_grid\"] == np.min(results_nf[\"total_cost_grid\"]))\n",
    "gamma_nf = results_nf[\"min_gamma\"]\n",
    "beta_nf = results_nf[\"min_betas\"]\n",
    "print(f'Energy at the noiseless optimum [{gamma_nf/np.pi:.2f}*pi, {beta_nf/np.pi:.2f}*pi]: \\\n",
    "mean {results[\"total_cost_grid\"][min_indices[0][0],min_indices[1][0]]:.2f}')"
   ]
  },
  {
   "cell_type": "code",
   "execution_count": null,
   "id": "17c669f8-2f52-499f-aad9-16db1f49c367",
   "metadata": {},
   "outputs": [],
   "source": []
  },
  {
   "cell_type": "code",
   "execution_count": null,
   "id": "427d3ce4-aaec-42ef-888f-12925c2e153e",
   "metadata": {},
   "outputs": [],
   "source": []
  }
 ],
 "metadata": {
  "kernelspec": {
   "display_name": "pytket",
   "language": "python",
   "name": "pytket"
  },
  "language_info": {
   "codemirror_mode": {
    "name": "ipython",
    "version": 3
   },
   "file_extension": ".py",
   "mimetype": "text/x-python",
   "name": "python",
   "nbconvert_exporter": "python",
   "pygments_lexer": "ipython3",
   "version": "3.8.15"
  }
 },
 "nbformat": 4,
 "nbformat_minor": 5
}
